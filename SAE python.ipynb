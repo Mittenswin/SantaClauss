{
 "cells": [
  {
   "cell_type": "markdown",
   "metadata": {},
   "source": [
    "# <center> Santa Claus needs you!</center>\n",
    "<center> SAE 1.01 / 2023 - 24 </center>\n",
    "\n"
   ]
  },
  {
   "cell_type": "markdown",
   "metadata": {
    "deletable": false,
    "editable": false
   },
   "source": [
    "**Attendus**\n",
    "\n",
    "Les attendus de cette SAE sont que vous appreniez à \n",
    "- respecter un cahier des charges ;\n",
    "- écrire un code de qualité : efficace, lisible, documenté et testé sauf quand il s'agit d'affichages, de saisies ou de tirages aléatoires ;\n",
    " - travailler en groupe sur un projet : cette SAE est à faire en **binôme**. Vous devez néanmoins comprendre et connaître la totalité de ce qui est produit par le binôme.\n",
    "\n",
    "\n",
    "**Calendrier**\n",
    "- Le projet est à rendre au plus tard le vendredi **10 novembre** 2023. Les modalités de rendu vous seront précisées par votre enseignant.\n",
    "- Un contrôle de 2h en lien avec le contenu de cette SAE aura lieu le vendredi **10 novembre** 2023.\n",
    "\n",
    "**Evaluation**\n",
    "- Le projet comptera pour 40% de la note de SAE 1.01. <BR>\n",
    "Il sera particulièrement tenu compte de la qualité du code, des **commentaires** et **docstrings**, des fonctions de **tests unitaires** pour les fonctions renvoyant des résultats. <BR><BR>\n",
    "    \n",
    "- Le contrôle compte pour 60% de la note finale."
   ]
  },
  {
   "cell_type": "markdown",
   "metadata": {
    "deletable": false,
    "editable": false
   },
   "source": [
    "## <center> Sujet </center>\n",
    "\n",
    "Le Père Noël se fait vieux, il a besoin d'aider pour organiser sa distribution de cadeaux. Il vous prend à l'essai...\n",
    "\n",
    "L'objectif est de chercher une tournée des villes minimisant la distance parcourue par les rennes du Père Noël."
   ]
  },
  {
   "cell_type": "markdown",
   "metadata": {
    "deletable": false,
    "editable": false
   },
   "source": [
    "On décide de stocker les données sur les villes à visiter dans un tableau `villes` de chaînes de caractères et de flottants contenant successivement une ville (sous forme d'une chaîne de caractères), sa longitude et sa latitude (des flottants) en dégrés décimaux (DD) de sorte que `villes[3*i]` a pour longitude  `villes[3*i+1]` et pour latitude `villes[3*i+2]`.\n",
    "\n",
    "On suppose que chaque ville n'est présente qu'une seule fois dans le tableau.\n",
    "\n",
    "**Exemple** : "
   ]
  },
  {
   "cell_type": "code",
   "execution_count": 25,
   "metadata": {
    "deletable": false,
    "editable": false,
    "scrolled": true
   },
   "outputs": [],
   "source": [
    "villes = [\"Paris\",2.33,48.86, \"Lyon\",4.85,45.75, \n",
    "          \"Marseille\", 5.40,43.30, \"Lille\",3.06,50.63, \n",
    "          \"Strasbourg\",7.75,48.57, \"Rennes\",-1.66,48.11, \n",
    "          \"Clermont-Ferrand\",3.08,45.77, \"Bordeaux\", -0.57, 44.83]"
   ]
  },
  {
   "cell_type": "markdown",
   "metadata": {
    "deletable": false,
    "editable": false
   },
   "source": [
    "Ainsi\n",
    "- Paris a une longitude de 2,33 DD et une latitude de 48,86 DD.\n",
    "- Rennes a une longitude de -1,66 DD et une latitude de 48,11 DD."
   ]
  },
  {
   "cell_type": "markdown",
   "metadata": {
    "deletable": false,
    "editable": false
   },
   "source": [
    "#### Question préliminaire : Représentation des villes par un tableau\n",
    "\n",
    "- Ajouter dans le tableau précédent Toulouse dont la longitude est 1,43 DD et la latitude est 43,60 DD, ainsi que Grenoble dont la longitude est 5,72 DD et la latitude est 45,18 DD."
   ]
  },
  {
   "cell_type": "code",
   "execution_count": 26,
   "metadata": {
    "scrolled": true
   },
   "outputs": [],
   "source": [
    "villes = [\"Paris\", 2.33, 48.86, \"Lyon\", 4.85,45.75, \"Marseille\", 5.40, 43.30, \"Lille\", \n",
    "          3.06, 50.63, \"Strasbourg\", 7.75, 48.57, \"Rennes\", -1.66, 48.11, \"Clermont-Ferrand\"\n",
    "          ,3.08, 45.77, \"Bordeaux\", -0.57, 44.83, \"Toulouse\", 1.43, 43.60, \"Grenoble\", 5.72, 45.18]"
   ]
  },
  {
   "cell_type": "markdown",
   "metadata": {
    "deletable": false,
    "editable": false
   },
   "source": [
    "#### Question 1 : Nombre de villes à visiter\n",
    "\n",
    "- Étant donné un tableau `villes`, écrire une fonction `nb_villes(villes)` qui retourne le nombre de villes à visiter contenues dans le tableau `villes`. \n",
    "- Ecrire une fonction de tests unitaires permettant de vérifier cette fonction. "
   ]
  },
  {
   "cell_type": "code",
   "execution_count": 27,
   "metadata": {
    "scrolled": true
   },
   "outputs": [],
   "source": [
    "villes = [\"Paris\", 2.33, 48.86, \"Lyon\", 4.85,45.75, \"Marseille\", 5.40, 43.30, \"Lille\", 3.06, 50.63,\n",
    "          \"Strasbourg\", 7.75, 48.57, \"Rennes\", -1.66, 48.11, \"Clermont-Ferrand\",3.08, 45.77, \"Bordeaux\",\n",
    "          -0.57, 44.83, \"Toulouse\", 1.43, 43.60, \"Grenoble\", 5.72, 45.18 ]\n",
    "\n",
    "def nb_villes(villes):\n",
    "    nombre_villes = 0\n",
    "    for val in villes:\n",
    "        if type(val) == str : #si la valeur est une chaine de caractère on ajoute 1 à la somme\n",
    "            nombre_villes += 1\n",
    "    return nombre_villes\n",
    "\n",
    "def test():\n",
    "    assert nombre_villes == 10"
   ]
  },
  {
   "cell_type": "markdown",
   "metadata": {
    "deletable": false,
    "editable": false
   },
   "source": [
    "#### Question 2 : Tableaux des noms de villes à visiter\n",
    "\n",
    "- Étant donné un tableau `villes`, écrire une fonction `noms_villes(villes)` qui retourne le tableau des noms des villes à visiter contenues dans le tableau `villes`. \n",
    "- Ecrire une fonction de tests unitaires permettant de vérifier cette fonction. "
   ]
  },
  {
   "cell_type": "code",
   "execution_count": 28,
   "metadata": {
    "scrolled": true
   },
   "outputs": [],
   "source": [
    "villes = [\"Paris\", 2.33, 48.86, \"Lyon\", 4.85,45.75, \"Marseille\", 5.40, 43.30, \n",
    "          \"Lille\", 3.06, 50.63, \"Strasbourg\", 7.75, 48.57, \"Rennes\",\n",
    "          -1.66, 48.11, \"Clermont-Ferrand\",3.08, 45.77, \"Bordeaux\", -0.57, 44.83,\n",
    "          \"Toulouse\", 1.43, 43.60, \"Grenoble\", 5.72, 45.18 ]\n",
    "\n",
    "def noms_villes(villes):\n",
    "    noms_des_villes = []\n",
    "    for val in villes:\n",
    "        if type(val) == str: #on verifie si la valeur est une chaine de caractère alors on l'ajoute au tableau\n",
    "            noms_des_villes.append(val)\n",
    "    return noms_des_villes\n",
    "\n",
    "def test():\n",
    "    assert noms_villes(villes) == [\"Paris\", \"Lyon\", \"Marseille\", \"Lille\", \"Strasbourg\",\n",
    "                                   \"Rennes\", \"Clermont-Ferrand\", \"Bordeaux\", \"Toulouse\", \"Grenoble\"]"
   ]
  },
  {
   "cell_type": "markdown",
   "metadata": {
    "deletable": false,
    "editable": false,
    "run_control": {
     "frozen": true
    }
   },
   "source": [
    "#### Question 3 : Distance entre deux villes repérées par leurs longitude et latitude\n",
    "\n",
    "Pour calculer la distance $d$ entre deux villes $V_1$ (de longitude $long1$ et de latitude $lat1$) et $V_2$ (de longitude $long2$ et de latitude $lat2$) à partir de leurs longitude et latitude, on peut utiliser la formule suivante :\n",
    "\n",
    "$d=R*arccos(sin(lat1)*sin(lat2)+cos(lat1)*cos(lat2)*cos(long2-long1))$\n",
    "\n",
    "où le rayon de la terre $R$ vaut 6370.7km et les latitudes et longitudes sont exprimées en radians (en non en degrés décimaux).\n",
    "Cela correspond à la méthode de calcul avec la loi des sinus décrite [ici](http://villemin.gerard.free.fr/aGeograp/Distance.htm) \n",
    "\n",
    "Par exemple, Paris et Marseille sont distantes de 661,86 km.\n",
    "\n",
    "- Ecrire une fonction `distance(long1,lat1,long2,lat2)` qui calcule et retourne la distance entre deux villes $V_1$ (de longitude `long1` et `lat1`) et $V_2$ (de `long2`et `lat2`).\n",
    "\n",
    "**NB** Les fonctions `sin`, `cos` et le nombre `pi` sont définis dans la bibliothèque `math`. La fonction `arccos` est définie dans la bibliothèque `numpy`.\n",
    "\n",
    "Pour **convertir des degrés en radians**, il faut multiplier par $\\pi/180$.\n",
    "\n",
    "\n",
    "- Ecrire une fonction de tests unitaire permettant de vérifier cette fonction."
   ]
  },
  {
   "cell_type": "code",
   "execution_count": 29,
   "metadata": {
    "scrolled": true
   },
   "outputs": [],
   "source": [
    "from math import sin, cos, pi\n",
    "from numpy import arccos\n",
    "villes = [\"Paris\", 2.33, 48.86, \"Lyon\", 4.85,45.75, \"Marseille\", 5.40, 43.30, \n",
    "          \"Lille\", 3.06, 50.63, \"Strasbourg\", 7.75, 48.57, \"Rennes\", -1.66, 48.11, \n",
    "          \"Clermont-Ferrand\",3.08, 45.77, \"Bordeaux\", -0.57, 44.83, \"Toulouse\", 1.43, 43.60, \n",
    "          \"Grenoble\", 5.72, 45.18 ]\n",
    "\n",
    "def distance (long1, lat1, long2, lat2) :\n",
    "    R = 6370.7\n",
    "    lat1 *= pi/180 #on convertie les données de degrés vers radian\n",
    "    lat2 *= pi/180\n",
    "    long1 *= pi/180\n",
    "    long2 *= pi/180\n",
    "    d=R*arccos(sin(lat1)*sin(lat2)+cos(lat1)*cos(lat2)*cos(long2-long1)) #la formule de la distance\n",
    "    return d\n",
    "\n",
    "def test():\n",
    "    assert round(distance(3.06,50.63, 5.40,43.30)) == 834"
   ]
  },
  {
   "cell_type": "markdown",
   "metadata": {
    "deletable": false,
    "editable": false
   },
   "source": [
    "#### Question 4 : Coordonnées d'une ville dans le tableau `villes`\n",
    "\n",
    "a) Ecrire une fonction `indexCity(ville, villes)` qui retourne la position (l'indice) de la `ville` passée en paramètre dans le tableau `villes`. Elle retournera `-1` si la ville passée en paramètre n'est pas dans le tableau. Cette information pourra être utilisée dans la suite pour trouver la longitude et la latitude d'une ville donnée par son nom.\n",
    "\n",
    "Par exemple, \n",
    "- l'instruction `indexCity(\"Paris\", villes)` retournera `0`,\n",
    "- l'instruction `indexCity(\"Clermont-Ferrand\",villes)` retournera  `18`,\n",
    "- et l'instruction `indexCity(\"Villetaneuse\",villes)` retournera  `-1`.\n",
    "\n",
    "b) Ecrire une fonction de tests unitaire permettant de vérifier cette fonction."
   ]
  },
  {
   "cell_type": "code",
   "execution_count": 64,
   "metadata": {
    "scrolled": true
   },
   "outputs": [],
   "source": [
    "villes = [\"Paris\", 2.33, 48.86, \"Lyon\", 4.85,45.75, \"Marseille\", 5.40, 43.30, \"Lille\", \n",
    "          3.06, 50.63, \"Strasbourg\", 7.75, 48.57, \"Rennes\", -1.66, 48.11, \"Clermont-Ferrand\",\n",
    "          3.08, 45.77, \"Bordeaux\", -0.57, 44.83, \"Toulouse\", 1.43, 43.60, \"Grenoble\", 5.72, 45.18 ]\n",
    "\n",
    "def index_city(ville, villes):\n",
    "    for i, value in enumerate(villes): #Pour obtenir l'indice de chacunes des valeurs du tableau\n",
    "        if value == ville:\n",
    "            return i    \n",
    "    return -1 #Si la boucle se termine sans avoir trouvé de correspondance on renvoie -1 \n",
    "\n",
    "def test():\n",
    "    assert villes.index(\"Paris\") == 0\n",
    "    assert villes.index(\"Lyon\") == 3\n",
    "    assert villes.index(\"Lille\") == 9 \n",
    "    assert villes.index(\"Rennes\") == 15\n",
    "    assert villes.index(\"Bordeaux\") == 21\n",
    "    assert villes.index(\"Grenoble\") == 27"
   ]
  },
  {
   "cell_type": "markdown",
   "metadata": {
    "deletable": false,
    "editable": false
   },
   "source": [
    "#### Question 5 : Distance entre deux villes données par leurs noms\n",
    "\n",
    "- Ecrire une fonction `distance_noms(nom1,nom2, villes)` qui calcule et retourne la distance entre deux villes $V_1$ et $V_2$ appelées `nom1` et `nom2` dans le tableau `villes`. La fonction retournera `-1` si une de ces villes n'est pas dans le tableau.\n",
    "- Ecrire une fonction de tests unitaires permettant de vérifier cette fonction."
   ]
  },
  {
   "cell_type": "code",
   "execution_count": 65,
   "metadata": {
    "scrolled": true
   },
   "outputs": [],
   "source": [
    "from math import sin, cos, pi\n",
    "from numpy import arccos\n",
    "\n",
    "villes = [\"Paris\", 2.33, 48.86, \"Lyon\", 4.85,45.75, \"Marseille\", 5.40, 43.30, \"Lille\", 3.06, 50.63, \n",
    "          \"Strasbourg\", 7.75, 48.57, \"Rennes\", -1.66, 48.11, \"Clermont-Ferrand\",\n",
    "          3.08, 45.77, \"Bordeaux\", -0.57, 44.83, \"Toulouse\", 1.43, 43.60, \"Grenoble\", 5.72, 45.18 ]\n",
    "\n",
    "def distance_noms(nom1, nom2, villes):\n",
    "    indice_nom1 = index_city(nom1, villes) #on recupère l'indice des deux villes en appellant la fonction index_city\n",
    "    indice_nom2 = index_city(nom2, villes)\n",
    "    if not (index_city(nom1, villes) or index_city(nom2, villes)) == -1:\n",
    "        long1 = villes[indice_nom1+1] # la longitude correspond à l'indice de la ville +1\n",
    "        lat1 = villes[indice_nom1+2]\n",
    "        long2 = villes[indice_nom2+1]\n",
    "        lat2 = villes[indice_nom2+2] # la latitude correspond à l'indice de la ville +2\n",
    "        return distance(long1, lat1, long2, lat2) #ron etourne ensuite la distance entre les deux villes\n",
    "    else:\n",
    "        return -1\n",
    "\n",
    "\n",
    "def test():\n",
    "    assert round(distance_noms(\"Lille\", \"Rennes\", villes)) == 442"
   ]
  },
  {
   "cell_type": "markdown",
   "metadata": {
    "deletable": false,
    "editable": false
   },
   "source": [
    "#### Question 6 :  Lecture des villes d'une tournée à partir d'un fichier\n",
    "On suppose que les données sur les villes où doit se rendre le Père Noël réseau sont stockées dans un fichier CSV de la manière suivante :\n",
    "```\n",
    "ville1;longitude1;latitude1\n",
    "ville2;longitude2;latitude2\n",
    "ville3;longitude3;latitude3\n",
    "...\n",
    "```\n",
    "Autrement dit, chaque ligne du fichier contient le nom d'une ville, sa longitude et sa latitude en degrés décimaux, ces données étant séparées par des `';'`. Ces villes sont celles que le Père Noël doit desservir\n",
    "\n",
    "**NB** : Six fichiers CSV de ce type sont fournis dans le répertoire `files/`, il s'agit des fichiers `africa.csv`, `asia.csv`,`europe.csv`, `north-america`, `oceania.csv` and `south-america.csv`. \n",
    "Il est recommandé d'en fabriquer d'autres. \n",
    "\n",
    "- Ecrire une fonction `lecture_villes(path)` prenant en paramètre un chemin vers un tel fichier CSV et retournant un tableau contenant les informations sur les villes à visiter."
   ]
  },
  {
   "cell_type": "code",
   "execution_count": 66,
   "metadata": {
    "scrolled": true
   },
   "outputs": [],
   "source": [
    "villes = [\"Paris\", 2.33, 48.86, \"Lyon\", 4.85,45.75, \"Marseille\", 5.40, 43.30, \"Lille\", 3.06, 50.63,\n",
    "\"Strasbourg\", 7.75, 48.57, \"Rennes\", -1.66, 48.11, \"Clermont-Ferrand\",3.08, 45.77,\n",
    "\"Bordeaux\", -0.57, 44.83, \"Toulouse\", 1.43, 43.60, \"Grenoble\", 5.72, 45.18 ]\n",
    "\n",
    "f = open(\"villes.csv\", \"w\") #on ouvre un fichier en mode ecriture\n",
    "for i, val in enumerate(villes):\n",
    "    if i%3==0 and i != 1 and i != 0: #à chaque trois termes/valeur (ville, long, lat) on saute une ligne\n",
    "        f.write(\"\\n\") \n",
    "    f.write(str(val)) #on converti la valeur en chaine de caractère et on l'ecris\n",
    "    f.write(\";\")    # on met à la suite de la valeur un \";\"\n",
    "\n",
    "def lecture_villes(path):\n",
    "    info_villes = []\n",
    "    f = open(path, \"r\") #on ouvre un fichier avec son chemin en mode lecture\n",
    "    for line in f:\n",
    "        info_villes.append(line.split(\";\")) #on stocke chaque ligne du fichier dans info_villes en suprimant le \";\"\n",
    "    f.close()\n",
    "    return info_villes"
   ]
  },
  {
   "cell_type": "markdown",
   "metadata": {
    "deletable": false,
    "editable": false
   },
   "source": [
    "#### Question 7 : Longueur d'une tournée\n",
    "\n",
    "On considère que le Père Noël peut partir de n'importe laquelle des villes qu'il doit visiter et qu'il doit revenir à son point de départ à la fin de la tournée. Lors de sa tournée, il doit visiter chacune des villes dont les informations sont contenues dans le tableau `villes` une fois et une seule. \n",
    "\n",
    "On représente une tournée possible sous la forme d'un tableau `tournee` contenant le nom des villes dans l'ordre où le Père Noël les visitera sans oublier de revenir à la ville dont il est parti. \n",
    "\n",
    "L'objectif est de calculer la longueur d'une tournée. \n",
    "\n",
    "- Ecrire une fonction `long_tour(villes, tournee)` qui prend en paramètres le tableau `villes` contenant les informations sur les villes à visiter et le tableau `tournee` indiquant l'ordre dans lequel les villes sont visitées. La fonction retourne la longueur de la tournée correspondante.\n",
    "\n",
    "- Ecrire une fonction de tests unitaires permettant de vérifier cette fonction."
   ]
  },
  {
   "cell_type": "code",
   "execution_count": 67,
   "metadata": {},
   "outputs": [],
   "source": [
    "from math import sin, cos, pi\n",
    "from numpy import arccos\n",
    "\n",
    "villes = [\"Paris\", 2.33, 48.86, \"Lyon\", 4.85,45.75, \"Marseille\", 5.40, 43.30, \n",
    "          \"Lille\", 3.06, 50.63, \"Strasbourg\", 7.75, 48.57, \"Rennes\", -1.66, 48.11, \n",
    "          \"Clermont-Ferrand\",3.08, 45.77, \"Bordeaux\", -0.57, 44.83, \"Toulouse\", 1.43, 43.60, \n",
    "          \"Grenoble\", 5.72, 45.18]\n",
    "\n",
    "tournee = noms_villes(villes)\n",
    "tournee.append(tournee[0]) #on ajoute à la fin du tableau la première ville de départ (içi Paris)\n",
    "\n",
    "def long_tour(villes, tournee):\n",
    "    somme = 0\n",
    "    i=0\n",
    "    while i < len(tournee): #tant que i est inférieur à la taille de notre tableau\n",
    "        nom1 = tournee[i-1]  #le nom de la ville 1 est celui avant celui de la ville 2 en fonction de l'indice i\n",
    "        nom2 = tournee[i]\n",
    "        somme += distance_noms(nom1, nom2, villes) # on ajoute à chaque fois la distance entre les deux villes\n",
    "        i+=1                                    # en parcourant le tableau tournee\n",
    "    return somme\n",
    "\n",
    "def test():\n",
    "    assert round(long_tour(villes, tournee)) == 4434"
   ]
  },
  {
   "cell_type": "markdown",
   "metadata": {
    "deletable": false,
    "editable": false
   },
   "source": [
    "#### Question 8 : Recherche d'une plus courte tournée \n",
    "\n",
    "Pour améliorer la longueur de la tournée, on peut essayer de changer l'ordre des villes aléatoirement. Pour une tournée donnée par un tableau `tournee` cela peut se faire avec la fonction `shuffle` de la bibliothèque `random` qui mélange aléatoirement les villes qui sont dans le tableau `tournee`, grâce à l'instruction  `shuffle(tournee)`, et ne retourne rien.\n",
    "\n",
    "- Utiliser cette fonction pour écrire un programme qui cherche une tournée plus courte à proposer au Père Noël. \n",
    "- Comment la solution s'améliore-t-elle en fonction de nombre de tentatives de mélange ? "
   ]
  },
  {
   "cell_type": "code",
   "execution_count": 68,
   "metadata": {
    "scrolled": true
   },
   "outputs": [
    {
     "name": "stdout",
     "output_type": "stream",
     "text": [
      "4133\n",
      "3946\n",
      "3789\n",
      "3612\n",
      "3341\n",
      "3156\n"
     ]
    }
   ],
   "source": [
    "from random import shuffle #on importe shuffle de la bibliothèque random\n",
    "\n",
    "villes = [\"Paris\", 2.33, 48.86, \"Lyon\", 4.85,45.75, \"Marseille\", 5.40, 43.30, \n",
    "          \"Lille\", 3.06, 50.63, \"Strasbourg\", 7.75, 48.57, \"Rennes\", -1.66, 48.11, \n",
    "          \"Clermont-Ferrand\",3.08, 45.77, \"Bordeaux\", -0.57, 44.83, \"Toulouse\", 1.43, 43.60, \n",
    "          \"Grenoble\", 5.72, 45.18 ]\n",
    "\n",
    "tournee = noms_villes(villes)\n",
    "tournee.append(tournee[0])\n",
    "\n",
    "long_min = long_tour(villes, tournee) # on affirme que la longueur minimum est celle la tournee de base\n",
    "new = noms_villes(villes) #on crée un tableau absolue à melanger sans la ville de fin\n",
    "\n",
    "i=0\n",
    "while i <1000: #11!/2! Possibilitées : (\n",
    "    new.append(new[0])\n",
    "    if long_tour(villes, new) < long_min: #si la longueur de la nouvelle tournee est inférieur à la minimum\n",
    "        long_min = long_tour(villes, new) \n",
    "        tournee_min = new  # on affirme que la nouvelle est la plus petite\n",
    "        print(round(long_min))\n",
    "        if long_min <= 2735: # plus petite tournée trouvée \n",
    "            print(tournee_min) #on affiche le tableau de la plus petite tournee\n",
    "    del new[len(new)-1] # on supprime le dernier termes du tableau\n",
    "    shuffle(new) #puis on le mélange\n",
    "    i+=1\n",
    "\n",
    "# Pour l’instant on affirme que la plus petite tournée est :\n",
    "#['Grenoble', 'Lyon', 'Clermont-Ferrand, 'Strasbourg', 'Lille' 'Paris',\n",
    "#'Rennes', 'Bordeaux, 'Toulouse’, ´Marseille’ , ´Grenoble’] \n",
    "#pour une distance d’environ 2735 km\n",
    "#On remarque que avec une augmentation du nombre de tentatives plus on trouve une longueur min"
   ]
  },
  {
   "cell_type": "markdown",
   "metadata": {},
   "source": [
    "#### Question Bonus (facultative) : Visualisation de la tournée proposée au Père Noël \n",
    "\n",
    "Pour faciliter le travail du Père Noël, vous décidez de lui fournir une carte où est représentée la tournée sélectionnée. \n",
    "\n",
    "Pour cela, on peut (mais ce ne n'est qu'une suggestion) utiliser la bibliothèque [`folium`](https://python-visualization.github.io/folium/latest/getting_started.html). Vous pouvez également utiliser tout autre bibliothèque de votre choix.\n",
    "\n",
    "- Ecrire un programme permettant la visualisation de la tournée proposée au Père Noël"
   ]
  },
  {
   "cell_type": "code",
   "execution_count": 95,
   "metadata": {},
   "outputs": [
    {
     "data": {
      "text/html": [
       "<div style=\"width:100%;\"><div style=\"position:relative;width:100%;height:0;padding-bottom:60%;\"><span style=\"color:#565656\">Make this Notebook Trusted to load map: File -> Trust Notebook</span><iframe srcdoc=\"&lt;!DOCTYPE html&gt;\n",
       "&lt;html&gt;\n",
       "&lt;head&gt;\n",
       "    \n",
       "    &lt;meta http-equiv=&quot;content-type&quot; content=&quot;text/html; charset=UTF-8&quot; /&gt;\n",
       "    \n",
       "        &lt;script&gt;\n",
       "            L_NO_TOUCH = false;\n",
       "            L_DISABLE_3D = false;\n",
       "        &lt;/script&gt;\n",
       "    \n",
       "    &lt;style&gt;html, body {width: 100%;height: 100%;margin: 0;padding: 0;}&lt;/style&gt;\n",
       "    &lt;style&gt;#map {position:absolute;top:0;bottom:0;right:0;left:0;}&lt;/style&gt;\n",
       "    &lt;script src=&quot;https://cdn.jsdelivr.net/npm/leaflet@1.9.3/dist/leaflet.js&quot;&gt;&lt;/script&gt;\n",
       "    &lt;script src=&quot;https://code.jquery.com/jquery-3.7.1.min.js&quot;&gt;&lt;/script&gt;\n",
       "    &lt;script src=&quot;https://cdn.jsdelivr.net/npm/bootstrap@5.2.2/dist/js/bootstrap.bundle.min.js&quot;&gt;&lt;/script&gt;\n",
       "    &lt;script src=&quot;https://cdnjs.cloudflare.com/ajax/libs/Leaflet.awesome-markers/2.0.2/leaflet.awesome-markers.js&quot;&gt;&lt;/script&gt;\n",
       "    &lt;link rel=&quot;stylesheet&quot; href=&quot;https://cdn.jsdelivr.net/npm/leaflet@1.9.3/dist/leaflet.css&quot;/&gt;\n",
       "    &lt;link rel=&quot;stylesheet&quot; href=&quot;https://cdn.jsdelivr.net/npm/bootstrap@5.2.2/dist/css/bootstrap.min.css&quot;/&gt;\n",
       "    &lt;link rel=&quot;stylesheet&quot; href=&quot;https://netdna.bootstrapcdn.com/bootstrap/3.0.0/css/bootstrap-glyphicons.css&quot;/&gt;\n",
       "    &lt;link rel=&quot;stylesheet&quot; href=&quot;https://cdn.jsdelivr.net/npm/@fortawesome/fontawesome-free@6.2.0/css/all.min.css&quot;/&gt;\n",
       "    &lt;link rel=&quot;stylesheet&quot; href=&quot;https://cdnjs.cloudflare.com/ajax/libs/Leaflet.awesome-markers/2.0.2/leaflet.awesome-markers.css&quot;/&gt;\n",
       "    &lt;link rel=&quot;stylesheet&quot; href=&quot;https://cdn.jsdelivr.net/gh/python-visualization/folium/folium/templates/leaflet.awesome.rotate.min.css&quot;/&gt;\n",
       "    \n",
       "            &lt;meta name=&quot;viewport&quot; content=&quot;width=device-width,\n",
       "                initial-scale=1.0, maximum-scale=1.0, user-scalable=no&quot; /&gt;\n",
       "            &lt;style&gt;\n",
       "                #map_020c83a196b99e4dfbbb5d7ac618a5c9 {\n",
       "                    position: relative;\n",
       "                    width: 100.0%;\n",
       "                    height: 100.0%;\n",
       "                    left: 0.0%;\n",
       "                    top: 0.0%;\n",
       "                }\n",
       "                .leaflet-container { font-size: 1rem; }\n",
       "            &lt;/style&gt;\n",
       "        \n",
       "&lt;/head&gt;\n",
       "&lt;body&gt;\n",
       "    \n",
       "    \n",
       "            &lt;div class=&quot;folium-map&quot; id=&quot;map_020c83a196b99e4dfbbb5d7ac618a5c9&quot; &gt;&lt;/div&gt;\n",
       "        \n",
       "&lt;/body&gt;\n",
       "&lt;script&gt;\n",
       "    \n",
       "    \n",
       "            var map_020c83a196b99e4dfbbb5d7ac618a5c9 = L.map(\n",
       "                &quot;map_020c83a196b99e4dfbbb5d7ac618a5c9&quot;,\n",
       "                {\n",
       "                    center: [43.8, 2.21],\n",
       "                    crs: L.CRS.EPSG3857,\n",
       "                    zoom: 5.4,\n",
       "                    zoomControl: true,\n",
       "                    preferCanvas: false,\n",
       "                }\n",
       "            );\n",
       "\n",
       "            \n",
       "\n",
       "        \n",
       "    \n",
       "            var tile_layer_987cfcc244421f461fe19acb2bed34de = L.tileLayer(\n",
       "                &quot;https://tile.openstreetmap.org/{z}/{x}/{y}.png&quot;,\n",
       "                {&quot;attribution&quot;: &quot;\\u0026copy; \\u003ca href=\\&quot;https://www.openstreetmap.org/copyright\\&quot;\\u003eOpenStreetMap\\u003c/a\\u003e contributors&quot;, &quot;detectRetina&quot;: false, &quot;maxNativeZoom&quot;: 19, &quot;maxZoom&quot;: 19, &quot;minZoom&quot;: 0, &quot;noWrap&quot;: false, &quot;opacity&quot;: 1, &quot;subdomains&quot;: &quot;abc&quot;, &quot;tms&quot;: false}\n",
       "            );\n",
       "        \n",
       "    \n",
       "            tile_layer_987cfcc244421f461fe19acb2bed34de.addTo(map_020c83a196b99e4dfbbb5d7ac618a5c9);\n",
       "        \n",
       "    \n",
       "            var marker_8bec09fafab6b23aa0aaaf3c9ddf7c29 = L.marker(\n",
       "                [45.18, 5.72],\n",
       "                {}\n",
       "            ).addTo(map_020c83a196b99e4dfbbb5d7ac618a5c9);\n",
       "        \n",
       "    \n",
       "            marker_8bec09fafab6b23aa0aaaf3c9ddf7c29.bindTooltip(\n",
       "                `&lt;div&gt;\n",
       "                     Départ\n",
       "                 &lt;/div&gt;`,\n",
       "                {&quot;sticky&quot;: true}\n",
       "            );\n",
       "        \n",
       "    \n",
       "            var poly_line_2c3aa91237b5366e9012c21b03d95fdc = L.polyline(\n",
       "                [[45.18, 5.72], [45.75, 4.85], [45.77, 3.08], [48.57, 7.75], [50.63, 3.06], [48.86, 2.33], [48.11, -1.66], [44.83, -0.57], [43.6, 1.43], [43.3, 5.4], [45.18, 5.72]],\n",
       "                {&quot;bubblingMouseEvents&quot;: true, &quot;color&quot;: &quot;#3388ff&quot;, &quot;dashArray&quot;: null, &quot;dashOffset&quot;: null, &quot;fill&quot;: false, &quot;fillColor&quot;: &quot;#3388ff&quot;, &quot;fillOpacity&quot;: 0.2, &quot;fillRule&quot;: &quot;evenodd&quot;, &quot;lineCap&quot;: &quot;round&quot;, &quot;lineJoin&quot;: &quot;round&quot;, &quot;noClip&quot;: false, &quot;opacity&quot;: 1.0, &quot;smoothFactor&quot;: 1.0, &quot;stroke&quot;: true, &quot;weight&quot;: 3}\n",
       "            ).addTo(map_020c83a196b99e4dfbbb5d7ac618a5c9);\n",
       "        \n",
       "&lt;/script&gt;\n",
       "&lt;/html&gt;\" style=\"position:absolute;width:100%;height:100%;left:0;top:0;border:none !important;\" allowfullscreen webkitallowfullscreen mozallowfullscreen></iframe></div></div>"
      ],
      "text/plain": [
       "<folium.folium.Map at 0x2e051460350>"
      ]
     },
     "execution_count": 95,
     "metadata": {},
     "output_type": "execute_result"
    }
   ],
   "source": [
    "import folium\n",
    "\n",
    "m = folium.Map(location=[43.8, 2.21], zoom_start=5.4)\n",
    "\n",
    "villes = [\"Paris\", 2.33, 48.86, \"Lyon\", 4.85,45.75, \"Marseille\", 5.40, 43.30, \"Lille\", \n",
    "          3.06, 50.63, \"Strasbourg\", 7.75, 48.57, \"Rennes\", -1.66, 48.11, \"Clermont-Ferrand\"\n",
    "          ,3.08, 45.77, \"Bordeaux\", -0.57, 44.83, \"Toulouse\", 1.43, 43.60, \"Grenoble\", 5.72, 45.18]\n",
    "tournee = ['Grenoble', 'Lyon', 'Clermont-Ferrand', 'Strasbourg', 'Lille', 'Paris', 'Rennes', 'Bordeaux', 'Toulouse', 'Marseille' , 'Grenoble']\n",
    "trail_coordinates = []\n",
    "\n",
    "i=0\n",
    "while i < len(tournee): \n",
    "    trail_coordinates.append([villes[villes.index(tournee[i])+2], villes[villes.index(tournee[i])+1]])\n",
    "    i+=1  \n",
    "\n",
    "folium.Marker(location=[45.18, 5.72], tooltip=\"Départ\").add_to(m)\n",
    "folium.PolyLine(trail_coordinates).add_to(m)\n",
    "\n",
    "m"
   ]
  }
 ],
 "metadata": {
  "kernelspec": {
   "display_name": "Python 3",
   "language": "python",
   "name": "python3"
  },
  "language_info": {
   "codemirror_mode": {
    "name": "ipython",
    "version": 3
   },
   "file_extension": ".py",
   "mimetype": "text/x-python",
   "name": "python",
   "nbconvert_exporter": "python",
   "pygments_lexer": "ipython3",
   "version": "3.13.0"
  },
  "latex_envs": {
   "LaTeX_envs_menu_present": true,
   "autoclose": false,
   "autocomplete": true,
   "bibliofile": "biblio.bib",
   "cite_by": "apalike",
   "current_citInitial": 1,
   "eqLabelWithNumbers": true,
   "eqNumInitial": 1,
   "hotkeys": {
    "equation": "Ctrl-E",
    "itemize": "Ctrl-I"
   },
   "labels_anchors": false,
   "latex_user_defs": false,
   "report_style_numbering": false,
   "user_envs_cfg": false
  }
 },
 "nbformat": 4,
 "nbformat_minor": 2
}
