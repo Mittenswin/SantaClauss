{
 "cells": [
  {
   "cell_type": "markdown",
   "metadata": {},
   "source": [
    "                                                Question 1                                                    \n",
    "\n",
    "La complexité de la fonction `long_tour` est n quadratique car elle est composé d'une boucle qui\n",
    "elle même fait appel à une autre (de la fonction index_city) avec n la longueur du tableau en paramètre.\n",
    "\n",
    "Quant à la nouvelle fonction `tour_length`, elle est simplement n linéaire car elle fait appel qu'à une boucle de parcours"
   ]
  },
  {
   "cell_type": "markdown",
   "metadata": {},
   "source": [
    "                                                Question 2                                                    \n",
    "\n",
    "La complexité de la fonction `best_tour_from_closest_city` est n quadratique car sa boucle for fait appel à deux autre de deux fonctions distinctes dont l'une est elle même quadratique.(`tour_from_closest_city`)"
   ]
  },
  {
   "cell_type": "markdown",
   "metadata": {},
   "source": [
    "                                                Question 3                                                    \n",
    "\n",
    "Il existe plusieurs manière pour trouver un tour plus court. Par exemple : un algo qui construit un tour en ajoutant successivement la ville la plus proche de la dernière ville visitée, en partant d'une ville aléatoire. \n",
    "Cet algorithme simple et rapide, peut être amélioré en essayant chaque ville comme ville de départ et en gardant le meilleur tour obtenu. Une autre consiste à prendre un tour existant (par exemple, celui obtenu par l'algorithme d'avant) et à inverser l'ordre de certaines parties de villes. Si l'inversion réduit la distance totale, elle est conservée, sinon elle est inchengé, mais elle ne garantit pas de trouver le meilleur tour possible.\n",
    "Un dernier serait de générer aléatoirement des tour jusqu'à trouver un meilleur, mais il prendrais beaucoup de temps.\n",
    "Cependant si on cherche une solution rapide et simple, on devrais utiliser l'algorithme de la méthode d'amélioration par inversion, si on cherche une solution plus précise et robuste, on peut utiliser l'algorithme de génération aléatoire, mais il faudra plus de temps et de ressources. "
   ]
  }
 ],
 "metadata": {
  "kernelspec": {
   "display_name": "Python 3",
   "language": "python",
   "name": "python3"
  },
  "language_info": {
   "codemirror_mode": {
    "name": "ipython",
    "version": 3
   },
   "file_extension": ".py",
   "mimetype": "text/x-python",
   "name": "python",
   "nbconvert_exporter": "python",
   "pygments_lexer": "ipython3",
   "version": "3.9.0"
  }
 },
 "nbformat": 4,
 "nbformat_minor": 2
}
